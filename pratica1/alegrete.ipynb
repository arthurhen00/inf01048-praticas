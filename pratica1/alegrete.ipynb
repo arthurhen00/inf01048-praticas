{
 "cells": [
  {
   "attachments": {},
   "cell_type": "markdown",
   "metadata": {
    "id": "fM1tzPvICydP"
   },
   "source": [
    "**Pressione SHIFT+ENTER para executar a célula**"
   ]
  },
  {
   "attachments": {},
   "cell_type": "markdown",
   "metadata": {
    "id": "EtGzW6k4-epp"
   },
   "source": [
    "# Alegrete\n",
    "\n",
    "Este notebook fornece algumas visualizações para o trabalho de regressão linear. Para conseguir usar, implemente as funções no seu `alegrete.py` e tenha as bibliotecas `numpy` e `matplotlib` instaladas.\n",
    "\n",
    "O notebook usa um conjunto de dados sintetico. Adapte-o para carregar e usar os dados do `alegrete.csv`."
   ]
  },
  {
   "attachments": {},
   "cell_type": "markdown",
   "metadata": {},
   "source": [
    "### Imports das bibliotecas de plot e da solucao implementada"
   ]
  },
  {
   "cell_type": "code",
   "execution_count": 2,
   "metadata": {
    "executionInfo": {
     "elapsed": 633,
     "status": "ok",
     "timestamp": 1631925768986,
     "user": {
      "displayName": "Anderson Tavares",
      "photoUrl": "https://lh3.googleusercontent.com/a-/AOh14GgCwYk7tp3nP6ZaF03vKAzTMQ0Bx5FrmHg11c0E=s64",
      "userId": "08026797557963935348"
     },
     "user_tz": 180
    },
    "id": "k77xaJfA-epq"
   },
   "outputs": [
    {
     "ename": "ModuleNotFoundError",
     "evalue": "No module named 'matplotlib'",
     "output_type": "error",
     "traceback": [
      "\u001b[1;31m---------------------------------------------------------------------------\u001b[0m",
      "\u001b[1;31mModuleNotFoundError\u001b[0m                       Traceback (most recent call last)",
      "\u001b[1;32mc:\\Users\\Arthur22_1\\Desktop\\UFRGS\\5_semestre\\ia\\pratica1\\kit_aprendizado_supervisionado\\alegrete.ipynb Cell 4\u001b[0m line \u001b[0;36m1\n\u001b[1;32m----> <a href='vscode-notebook-cell:/c%3A/Users/Arthur22_1/Desktop/UFRGS/5_semestre/ia/pratica1/kit_aprendizado_supervisionado/alegrete.ipynb#W3sZmlsZQ%3D%3D?line=0'>1</a>\u001b[0m get_ipython()\u001b[39m.\u001b[39;49mrun_line_magic(\u001b[39m'\u001b[39;49m\u001b[39mmatplotlib\u001b[39;49m\u001b[39m'\u001b[39;49m, \u001b[39m'\u001b[39;49m\u001b[39minline\u001b[39;49m\u001b[39m'\u001b[39;49m)\n\u001b[0;32m      <a href='vscode-notebook-cell:/c%3A/Users/Arthur22_1/Desktop/UFRGS/5_semestre/ia/pratica1/kit_aprendizado_supervisionado/alegrete.ipynb#W3sZmlsZQ%3D%3D?line=1'>2</a>\u001b[0m \u001b[39mfrom\u001b[39;00m \u001b[39mIPython\u001b[39;00m\u001b[39m.\u001b[39;00m\u001b[39mdisplay\u001b[39;00m \u001b[39mimport\u001b[39;00m HTML\n\u001b[0;32m      <a href='vscode-notebook-cell:/c%3A/Users/Arthur22_1/Desktop/UFRGS/5_semestre/ia/pratica1/kit_aprendizado_supervisionado/alegrete.ipynb#W3sZmlsZQ%3D%3D?line=2'>3</a>\u001b[0m \u001b[39mimport\u001b[39;00m \u001b[39mnumpy\u001b[39;00m \u001b[39mas\u001b[39;00m \u001b[39mnp\u001b[39;00m\n",
      "File \u001b[1;32m~\\AppData\\Local\\Packages\\PythonSoftwareFoundation.Python.3.9_qbz5n2kfra8p0\\LocalCache\\local-packages\\Python39\\site-packages\\IPython\\core\\interactiveshell.py:2454\u001b[0m, in \u001b[0;36mInteractiveShell.run_line_magic\u001b[1;34m(self, magic_name, line, _stack_depth)\u001b[0m\n\u001b[0;32m   2452\u001b[0m     kwargs[\u001b[39m'\u001b[39m\u001b[39mlocal_ns\u001b[39m\u001b[39m'\u001b[39m] \u001b[39m=\u001b[39m \u001b[39mself\u001b[39m\u001b[39m.\u001b[39mget_local_scope(stack_depth)\n\u001b[0;32m   2453\u001b[0m \u001b[39mwith\u001b[39;00m \u001b[39mself\u001b[39m\u001b[39m.\u001b[39mbuiltin_trap:\n\u001b[1;32m-> 2454\u001b[0m     result \u001b[39m=\u001b[39m fn(\u001b[39m*\u001b[39margs, \u001b[39m*\u001b[39m\u001b[39m*\u001b[39mkwargs)\n\u001b[0;32m   2456\u001b[0m \u001b[39m# The code below prevents the output from being displayed\u001b[39;00m\n\u001b[0;32m   2457\u001b[0m \u001b[39m# when using magics with decorator @output_can_be_silenced\u001b[39;00m\n\u001b[0;32m   2458\u001b[0m \u001b[39m# when the last Python token in the expression is a ';'.\u001b[39;00m\n\u001b[0;32m   2459\u001b[0m \u001b[39mif\u001b[39;00m \u001b[39mgetattr\u001b[39m(fn, magic\u001b[39m.\u001b[39mMAGIC_OUTPUT_CAN_BE_SILENCED, \u001b[39mFalse\u001b[39;00m):\n",
      "File \u001b[1;32m~\\AppData\\Local\\Packages\\PythonSoftwareFoundation.Python.3.9_qbz5n2kfra8p0\\LocalCache\\local-packages\\Python39\\site-packages\\IPython\\core\\magics\\pylab.py:99\u001b[0m, in \u001b[0;36mPylabMagics.matplotlib\u001b[1;34m(self, line)\u001b[0m\n\u001b[0;32m     97\u001b[0m     \u001b[39mprint\u001b[39m(\u001b[39m\"\u001b[39m\u001b[39mAvailable matplotlib backends: \u001b[39m\u001b[39m%s\u001b[39;00m\u001b[39m\"\u001b[39m \u001b[39m%\u001b[39m backends_list)\n\u001b[0;32m     98\u001b[0m \u001b[39melse\u001b[39;00m:\n\u001b[1;32m---> 99\u001b[0m     gui, backend \u001b[39m=\u001b[39m \u001b[39mself\u001b[39;49m\u001b[39m.\u001b[39;49mshell\u001b[39m.\u001b[39;49menable_matplotlib(args\u001b[39m.\u001b[39;49mgui\u001b[39m.\u001b[39;49mlower() \u001b[39mif\u001b[39;49;00m \u001b[39misinstance\u001b[39;49m(args\u001b[39m.\u001b[39;49mgui, \u001b[39mstr\u001b[39;49m) \u001b[39melse\u001b[39;49;00m args\u001b[39m.\u001b[39;49mgui)\n\u001b[0;32m    100\u001b[0m     \u001b[39mself\u001b[39m\u001b[39m.\u001b[39m_show_matplotlib_backend(args\u001b[39m.\u001b[39mgui, backend)\n",
      "File \u001b[1;32m~\\AppData\\Local\\Packages\\PythonSoftwareFoundation.Python.3.9_qbz5n2kfra8p0\\LocalCache\\local-packages\\Python39\\site-packages\\IPython\\core\\interactiveshell.py:3628\u001b[0m, in \u001b[0;36mInteractiveShell.enable_matplotlib\u001b[1;34m(self, gui)\u001b[0m\n\u001b[0;32m   3607\u001b[0m \u001b[39mdef\u001b[39;00m \u001b[39menable_matplotlib\u001b[39m(\u001b[39mself\u001b[39m, gui\u001b[39m=\u001b[39m\u001b[39mNone\u001b[39;00m):\n\u001b[0;32m   3608\u001b[0m \u001b[39m    \u001b[39m\u001b[39m\"\"\"Enable interactive matplotlib and inline figure support.\u001b[39;00m\n\u001b[0;32m   3609\u001b[0m \n\u001b[0;32m   3610\u001b[0m \u001b[39m    This takes the following steps:\u001b[39;00m\n\u001b[1;32m   (...)\u001b[0m\n\u001b[0;32m   3626\u001b[0m \u001b[39m        display figures inline.\u001b[39;00m\n\u001b[0;32m   3627\u001b[0m \u001b[39m    \"\"\"\u001b[39;00m\n\u001b[1;32m-> 3628\u001b[0m     \u001b[39mfrom\u001b[39;00m \u001b[39mmatplotlib_inline\u001b[39;00m\u001b[39m.\u001b[39;00m\u001b[39mbackend_inline\u001b[39;00m \u001b[39mimport\u001b[39;00m configure_inline_support\n\u001b[0;32m   3630\u001b[0m     \u001b[39mfrom\u001b[39;00m \u001b[39mIPython\u001b[39;00m\u001b[39m.\u001b[39;00m\u001b[39mcore\u001b[39;00m \u001b[39mimport\u001b[39;00m pylabtools \u001b[39mas\u001b[39;00m pt\n\u001b[0;32m   3631\u001b[0m     gui, backend \u001b[39m=\u001b[39m pt\u001b[39m.\u001b[39mfind_gui_and_backend(gui, \u001b[39mself\u001b[39m\u001b[39m.\u001b[39mpylab_gui_select)\n",
      "File \u001b[1;32m~\\AppData\\Local\\Packages\\PythonSoftwareFoundation.Python.3.9_qbz5n2kfra8p0\\LocalCache\\local-packages\\Python39\\site-packages\\matplotlib_inline\\__init__.py:1\u001b[0m\n\u001b[1;32m----> 1\u001b[0m \u001b[39mfrom\u001b[39;00m \u001b[39m.\u001b[39;00m \u001b[39mimport\u001b[39;00m backend_inline, config  \u001b[39m# noqa\u001b[39;00m\n\u001b[0;32m      2\u001b[0m __version__ \u001b[39m=\u001b[39m \u001b[39m\"\u001b[39m\u001b[39m0.1.6\u001b[39m\u001b[39m\"\u001b[39m  \u001b[39m# noqa\u001b[39;00m\n",
      "File \u001b[1;32m~\\AppData\\Local\\Packages\\PythonSoftwareFoundation.Python.3.9_qbz5n2kfra8p0\\LocalCache\\local-packages\\Python39\\site-packages\\matplotlib_inline\\backend_inline.py:6\u001b[0m\n\u001b[0;32m      1\u001b[0m \u001b[39m\"\"\"A matplotlib backend for publishing figures via display_data\"\"\"\u001b[39;00m\n\u001b[0;32m      3\u001b[0m \u001b[39m# Copyright (c) IPython Development Team.\u001b[39;00m\n\u001b[0;32m      4\u001b[0m \u001b[39m# Distributed under the terms of the BSD 3-Clause License.\u001b[39;00m\n\u001b[1;32m----> 6\u001b[0m \u001b[39mimport\u001b[39;00m \u001b[39mmatplotlib\u001b[39;00m\n\u001b[0;32m      7\u001b[0m \u001b[39mfrom\u001b[39;00m \u001b[39mmatplotlib\u001b[39;00m \u001b[39mimport\u001b[39;00m colors\n\u001b[0;32m      8\u001b[0m \u001b[39mfrom\u001b[39;00m \u001b[39mmatplotlib\u001b[39;00m\u001b[39m.\u001b[39;00m\u001b[39mbackends\u001b[39;00m \u001b[39mimport\u001b[39;00m backend_agg\n",
      "\u001b[1;31mModuleNotFoundError\u001b[0m: No module named 'matplotlib'"
     ]
    }
   ],
   "source": [
    "%matplotlib inline\n",
    "from IPython.display import HTML\n",
    "import numpy as np\n",
    "import matplotlib.pyplot as plt\n",
    "import matplotlib.animation as animation\n",
    "\n",
    "import alegrete"
   ]
  },
  {
   "attachments": {},
   "cell_type": "markdown",
   "metadata": {},
   "source": [
    "### Visualizacao dos dados"
   ]
  },
  {
   "cell_type": "code",
   "execution_count": null,
   "metadata": {
    "colab": {
     "base_uri": "https://localhost:8080/",
     "height": 406
    },
    "executionInfo": {
     "elapsed": 19,
     "status": "ok",
     "timestamp": 1631925771411,
     "user": {
      "displayName": "Anderson Tavares",
      "photoUrl": "https://lh3.googleusercontent.com/a-/AOh14GgCwYk7tp3nP6ZaF03vKAzTMQ0Bx5FrmHg11c0E=s64",
      "userId": "08026797557963935348"
     },
     "user_tz": 180
    },
    "id": "E9HoBdK3-epu",
    "outputId": "198a4259-e153-4da2-e57b-3dba321b972c"
   },
   "outputs": [],
   "source": [
    "# dataset ficticio -- troque para carregar o alegrete.csv\n",
    "dataset = np.array([\n",
    "    [1, 3],\n",
    "    [2, 4],\n",
    "    [3, 4],\n",
    "    [4, 2]\n",
    "])\n",
    "\n",
    "#Gráfico dos dados\n",
    "plt.figure(figsize=(6, 2))\n",
    "plt.scatter(dataset[:,0], dataset[:,1])\n",
    "plt.xlabel('x')\n",
    "plt.ylabel('y')\n",
    "plt.title('Dados ficticios')\n",
    "plt.show()"
   ]
  },
  {
   "attachments": {},
   "cell_type": "markdown",
   "metadata": {
    "id": "wnmqepye-ep_"
   },
   "source": [
    "### Execucao da regressao linear e calculo do EQM por epoca/iteracao"
   ]
  },
  {
   "cell_type": "code",
   "execution_count": null,
   "metadata": {
    "colab": {
     "base_uri": "https://localhost:8080/",
     "height": 404
    },
    "executionInfo": {
     "elapsed": 312,
     "status": "ok",
     "timestamp": 1631925777760,
     "user": {
      "displayName": "Anderson Tavares",
      "photoUrl": "https://lh3.googleusercontent.com/a-/AOh14GgCwYk7tp3nP6ZaF03vKAzTMQ0Bx5FrmHg11c0E=s64",
      "userId": "08026797557963935348"
     },
     "user_tz": 180
    },
    "id": "x1VREIE7-eqA",
    "outputId": "f50296d8-a051-4adb-9625-71a735de31ad"
   },
   "outputs": [],
   "source": [
    "b_history, w_history = alegrete.fit(\n",
    "    dataset, theta_0=0, theta_1=0, \n",
    "    alpha=0.1, num_iterations=100\n",
    ")\n",
    "\n",
    "# valores finais de theta0 e theta1\n",
    "final_b, final_w = b_history[-1], w_history[-1]\n",
    "\n",
    "mse_list = [alegrete.compute_mse(b, w, dataset) for b, w in zip(b_history, w_history)]\n",
    "print(f\"EQM final: {mse_list[-1]}\")\n",
    "\n",
    "\n",
    "plt.plot(mse_list)\n",
    "plt.xlabel('Epoca/iteracao')\n",
    "plt.ylabel('EQM')\n",
    "plt.show()"
   ]
  },
  {
   "attachments": {},
   "cell_type": "markdown",
   "metadata": {
    "id": "5v-y-qI3-ep7"
   },
   "source": [
    "### Plot da curva final"
   ]
  },
  {
   "cell_type": "code",
   "execution_count": null,
   "metadata": {
    "colab": {
     "base_uri": "https://localhost:8080/"
    },
    "executionInfo": {
     "elapsed": 12,
     "status": "ok",
     "timestamp": 1631925776074,
     "user": {
      "displayName": "Anderson Tavares",
      "photoUrl": "https://lh3.googleusercontent.com/a-/AOh14GgCwYk7tp3nP6ZaF03vKAzTMQ0Bx5FrmHg11c0E=s64",
      "userId": "08026797557963935348"
     },
     "user_tz": 180
    },
    "id": "WV6KIdPq-ep7",
    "outputId": "4bd34c8f-494f-45e0-97fe-159098868226"
   },
   "outputs": [],
   "source": [
    "#Imprimir parâmetros otimizados\n",
    "print (f'Curva encontrada: {final_w}*x + {final_b}')\n",
    "\n",
    "#plota os dados\n",
    "plt.figure(figsize=(4, 2))\n",
    "plt.scatter(dataset[:,0], dataset[:,1])\n",
    "\n",
    "# plota a curva de ajuste\n",
    "pred = final_w*dataset[:,0] + final_b\n",
    "plt.plot(dataset[:,0], pred, c='r')\n",
    "plt.show()\n",
    "\n",
    "\n"
   ]
  },
  {
   "attachments": {},
   "cell_type": "markdown",
   "metadata": {
    "id": "XeXdBWc-Cic-"
   },
   "source": [
    "### Progresso da descida do gradiente com o número de iterações\n",
    "\n",
    "Execute a celula e use os controles abaixo do grafico para visualizar o progresso do seu ajuste\n",
    "\n",
    "Pode aparecer um grafico \"extra\" abaixo da animacao, apenas ignore."
   ]
  },
  {
   "cell_type": "code",
   "execution_count": null,
   "metadata": {
    "colab": {
     "base_uri": "https://localhost:8080/",
     "height": 892
    },
    "executionInfo": {
     "elapsed": 12319,
     "status": "ok",
     "timestamp": 1631925800823,
     "user": {
      "displayName": "Anderson Tavares",
      "photoUrl": "https://lh3.googleusercontent.com/a-/AOh14GgCwYk7tp3nP6ZaF03vKAzTMQ0Bx5FrmHg11c0E=s64",
      "userId": "08026797557963935348"
     },
     "user_tz": 180
    },
    "id": "pHGbi8nY-eqI",
    "outputId": "daa1bdeb-84ac-4e41-f71a-59b3e12e3090"
   },
   "outputs": [],
   "source": [
    "fig = plt.figure(figsize=(4, 2))\n",
    "ax = fig.add_subplot(111)\n",
    "\n",
    "# conjunto de dados\n",
    "ax.scatter(dataset[:,0], dataset[:,1])\n",
    "\n",
    "# linha com os valores iniciais dos parametros\n",
    "pred = w_history[0]*dataset[:,0] + b_history[0]\n",
    "line, = ax.plot(dataset[:,0], pred, '-',c='r')\n",
    "\n",
    "# funcao que atualiza a linha a cada passo\n",
    "def animate(i):\n",
    "    pred = w_history[i] * dataset[:,0] + b_history[i]\n",
    "    line.set_ydata(pred)\n",
    "    return line,\n",
    "\n",
    "# mude interval para trocar a velocidade da animacao\n",
    "ani = animation.FuncAnimation(fig, animate, frames=len(b_history), interval=20, save_count=50)\n",
    "HTML(ani.to_jshtml())"
   ]
  }
 ],
 "metadata": {
  "kernelspec": {
   "display_name": "Python 3 (ipykernel)",
   "language": "python",
   "name": "python3"
  },
  "language_info": {
   "codemirror_mode": {
    "name": "ipython",
    "version": 3
   },
   "file_extension": ".py",
   "mimetype": "text/x-python",
   "name": "python",
   "nbconvert_exporter": "python",
   "pygments_lexer": "ipython3",
   "version": "3.9.13"
  }
 },
 "nbformat": 4,
 "nbformat_minor": 1
}
